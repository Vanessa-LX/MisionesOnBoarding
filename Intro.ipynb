{
 "cells": [
  {
   "cell_type": "markdown",
   "metadata": {},
   "source": [
    "## Las variables \n",
    "Las variables se definen:"
   ]
  },
  {
   "cell_type": "code",
   "execution_count": 1,
   "metadata": {},
   "outputs": [
    {
     "name": "stdout",
     "output_type": "stream",
     "text": [
      "Hola!\n"
     ]
    }
   ],
   "source": [
    "msg = 'Hola!'\n",
    "print(msg)"
   ]
  },
  {
   "cell_type": "code",
   "execution_count": null,
   "metadata": {},
   "outputs": [],
   "source": [
    "titulo = 'programando'\n",
    "huevo = 3\n",
    "leche = 1.5\n",
    "mantequilla = 0.045\n",
    "harina = 3\n",
    "cditavainilla = 0.015\n",
    "\n",
    "#Asignamos espacio de la memoria\n"
   ]
  }
 ],
 "metadata": {
  "interpreter": {
   "hash": "85925e7c36746a706d771a1bcfd0d52d5055a20e940fe9fcd370a7f9f8212c3b"
  },
  "kernelspec": {
   "display_name": "Python 3.10.2 64-bit (windows store)",
   "language": "python",
   "name": "python3"
  },
  "language_info": {
   "codemirror_mode": {
    "name": "ipython",
    "version": 3
   },
   "file_extension": ".py",
   "mimetype": "text/x-python",
   "name": "python",
   "nbconvert_exporter": "python",
   "pygments_lexer": "ipython3",
   "version": "3.10.2"
  },
  "orig_nbformat": 4
 },
 "nbformat": 4,
 "nbformat_minor": 2
}
